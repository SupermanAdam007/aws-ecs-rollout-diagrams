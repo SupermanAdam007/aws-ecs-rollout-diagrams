{
 "cells": [
  {
   "cell_type": "code",
   "execution_count": 6,
   "id": "initial_id",
   "metadata": {
    "collapsed": true,
    "ExecuteTime": {
     "end_time": "2023-11-16T15:13:07.062823Z",
     "start_time": "2023-11-16T15:13:07.038692Z"
    }
   },
   "outputs": [],
   "source": [
    "from diagrams import Diagram, Cluster\n",
    "from diagrams.aws.compute import ECS, EC2\n",
    "from diagrams.onprem.container import Docker"
   ]
  },
  {
   "cell_type": "code",
   "execution_count": 7,
   "outputs": [],
   "source": [
    "with Diagram(\"ECS Deployment - 1. Initial State\", show=False, direction=\"TB\"):\n",
    "    with Cluster(\"ECS Cluster\"):\n",
    "        ecs_service = ECS(\"ECS Service\")\n",
    "        containers = [Docker(\"Container 1\"), Docker(\"Container 2\")]\n",
    "\n",
    "    ec2 = EC2(\"EC2 Capacity\")\n",
    "\n",
    "    ecs_service >> containers\n",
    "    ec2 >> ecs_service\n",
    "\n",
    "# This will save the diagram as 'ecs_deployment_initial_state.png'"
   ],
   "metadata": {
    "collapsed": false,
    "ExecuteTime": {
     "end_time": "2023-11-16T15:13:07.269349Z",
     "start_time": "2023-11-16T15:13:07.043239Z"
    }
   },
   "id": "3d58344da9e27ae8"
  },
  {
   "cell_type": "code",
   "execution_count": 8,
   "outputs": [],
   "source": [
    "with Diagram(\"ECS Deployment - 2. Deploy New Container\", show=False, direction=\"TB\"):\n",
    "    with Cluster(\"ECS Cluster\"):\n",
    "        ecs_service = ECS(\"ECS Service\")\n",
    "        # Two original containers and one new version container\n",
    "        containers = [Docker(\"Container 1 - Old\"), Docker(\"Container 2 - Old\"), Docker(\"Container 3 - New\")]\n",
    "\n",
    "    ec2 = EC2(\"EC2 Capacity\")\n",
    "\n",
    "    ecs_service >> containers\n",
    "    ec2 >> ecs_service\n",
    "\n",
    "# This will save the diagram as 'ecs_deployment_deploy_new_container.png'"
   ],
   "metadata": {
    "collapsed": false,
    "ExecuteTime": {
     "end_time": "2023-11-16T15:13:07.491530Z",
     "start_time": "2023-11-16T15:13:07.270952Z"
    }
   },
   "id": "3b21bccdc3118215"
  },
  {
   "cell_type": "code",
   "execution_count": 9,
   "outputs": [],
   "source": [
    "with Diagram(\"ECS Deployment - 3. Decommission Old Container\", show=False, direction=\"TB\"):\n",
    "    with Cluster(\"ECS Cluster\"):\n",
    "        ecs_service = ECS(\"ECS Service\")\n",
    "        # One old container and one new version container, after decommissioning one old container\n",
    "        containers = [Docker(\"Container 1 - Old\"), Docker(\"Container 2 - New\")]\n",
    "\n",
    "    ec2 = EC2(\"EC2 Capacity\")\n",
    "\n",
    "    ecs_service >> containers\n",
    "    ec2 >> ecs_service\n",
    "\n",
    "# This will save the diagram as 'ecs_deployment_decommission_old_container.png'"
   ],
   "metadata": {
    "collapsed": false,
    "ExecuteTime": {
     "end_time": "2023-11-16T15:13:07.706842Z",
     "start_time": "2023-11-16T15:13:07.492438Z"
    }
   },
   "id": "5924680feb929cee"
  },
  {
   "cell_type": "code",
   "execution_count": 10,
   "outputs": [],
   "source": [
    "with Diagram(\"ECS Deployment - 4. Rollout Continuation\", show=False, direction=\"TB\"):\n",
    "    with Cluster(\"ECS Cluster\"):\n",
    "        ecs_service = ECS(\"ECS Service\")\n",
    "        # Two new version containers after decommissioning the last old container\n",
    "        containers = [Docker(\"Container 1 - New\"), Docker(\"Container 2 - New\")]\n",
    "\n",
    "    ec2 = EC2(\"EC2 Capacity\")\n",
    "\n",
    "    ecs_service >> containers\n",
    "    ec2 >> ecs_service\n",
    "\n",
    "# This will save the diagram as 'ecs_deployment_rollout_continuation.png'"
   ],
   "metadata": {
    "collapsed": false,
    "ExecuteTime": {
     "end_time": "2023-11-16T15:13:07.915248Z",
     "start_time": "2023-11-16T15:13:07.708941Z"
    }
   },
   "id": "461fbca785b95c4"
  },
  {
   "cell_type": "code",
   "execution_count": 10,
   "outputs": [],
   "source": [],
   "metadata": {
    "collapsed": false,
    "ExecuteTime": {
     "end_time": "2023-11-16T15:13:07.933563Z",
     "start_time": "2023-11-16T15:13:07.915701Z"
    }
   },
   "id": "d2bbbf32de675932"
  },
  {
   "cell_type": "code",
   "execution_count": 10,
   "outputs": [],
   "source": [],
   "metadata": {
    "collapsed": false,
    "ExecuteTime": {
     "end_time": "2023-11-16T15:13:07.933831Z",
     "start_time": "2023-11-16T15:13:07.917897Z"
    }
   },
   "id": "1471bc90d5cfca48"
  }
 ],
 "metadata": {
  "kernelspec": {
   "display_name": "Python 3",
   "language": "python",
   "name": "python3"
  },
  "language_info": {
   "codemirror_mode": {
    "name": "ipython",
    "version": 2
   },
   "file_extension": ".py",
   "mimetype": "text/x-python",
   "name": "python",
   "nbconvert_exporter": "python",
   "pygments_lexer": "ipython2",
   "version": "2.7.6"
  }
 },
 "nbformat": 4,
 "nbformat_minor": 5
}
