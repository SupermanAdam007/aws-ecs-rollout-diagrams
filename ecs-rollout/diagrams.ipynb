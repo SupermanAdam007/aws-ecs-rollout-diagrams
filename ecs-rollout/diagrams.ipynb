{
 "cells": [
  {
   "cell_type": "code",
   "execution_count": 38,
   "outputs": [],
   "source": [
    "import os\n",
    "import shutil\n",
    "from IPython import get_ipython\n",
    "\n",
    "from PIL import Image, ImageOps\n",
    "import imageio"
   ],
   "metadata": {
    "collapsed": false,
    "ExecuteTime": {
     "end_time": "2023-11-16T16:13:27.244154Z",
     "start_time": "2023-11-16T16:13:27.211661Z"
    }
   },
   "id": "f5059ca62f780507"
  },
  {
   "cell_type": "code",
   "execution_count": 39,
   "id": "initial_id",
   "metadata": {
    "collapsed": true,
    "ExecuteTime": {
     "end_time": "2023-11-16T16:13:27.244361Z",
     "start_time": "2023-11-16T16:13:27.215736Z"
    }
   },
   "outputs": [],
   "source": [
    "from diagrams import Diagram, Cluster\n",
    "from diagrams.aws.compute import ECS, EC2\n",
    "from diagrams.onprem.container import Docker"
   ]
  },
  {
   "cell_type": "code",
   "execution_count": 40,
   "outputs": [],
   "source": [
    "notebook_path = get_ipython().starting_dir\n",
    "output_folder = os.path.join(notebook_path, \"diagrams\")\n",
    "\n",
    "shutil.rmtree(output_folder, ignore_errors=True)\n",
    "os.makedirs(output_folder)"
   ],
   "metadata": {
    "collapsed": false,
    "ExecuteTime": {
     "end_time": "2023-11-16T16:13:27.249291Z",
     "start_time": "2023-11-16T16:13:27.220288Z"
    }
   },
   "id": "d9d5e62709ce15e8"
  },
  {
   "cell_type": "code",
   "execution_count": 41,
   "outputs": [],
   "source": [
    "big_name = \"ECS Deployment\""
   ],
   "metadata": {
    "collapsed": false,
    "ExecuteTime": {
     "end_time": "2023-11-16T16:13:27.249525Z",
     "start_time": "2023-11-16T16:13:27.227479Z"
    }
   },
   "id": "be42c4e4718f647a"
  },
  {
   "cell_type": "code",
   "execution_count": 42,
   "outputs": [],
   "source": [
    "name = big_name + \" - 1. Initial State\"\n",
    "with Diagram(name, filename=os.path.join(output_folder, name), show=False, direction=\"TB\"):\n",
    "    with Cluster(\"ECS Cluster\"):\n",
    "        ecs_service = ECS(\"ECS Service\")\n",
    "        containers = [Docker(\"Container 1\"), Docker(\"Container 2\")]\n",
    "\n",
    "    ec2 = EC2(\"EC2 Capacity\")\n",
    "\n",
    "    ecs_service >> containers\n",
    "    ec2 >> ecs_service\n",
    "\n",
    "# This will save the diagram as 'ecs_deployment_initial_state.png'"
   ],
   "metadata": {
    "collapsed": false,
    "ExecuteTime": {
     "end_time": "2023-11-16T16:13:27.521906Z",
     "start_time": "2023-11-16T16:13:27.233642Z"
    }
   },
   "id": "3d58344da9e27ae8"
  },
  {
   "cell_type": "code",
   "execution_count": 43,
   "outputs": [],
   "source": [
    "name = big_name + \" - 2. Deploy New Container\"\n",
    "with Diagram(name, os.path.join(output_folder, name), show=False, direction=\"TB\"):\n",
    "    with Cluster(\"ECS Cluster\"):\n",
    "        ecs_service = ECS(\"ECS Service\")\n",
    "        # Two original containers and one new version container\n",
    "        containers = [Docker(\"Container 1 - Old\"), Docker(\"Container 2 - Old\"), Docker(\"Container 3 - New\")]\n",
    "\n",
    "    ec2 = EC2(\"EC2 Capacity\")\n",
    "\n",
    "    ecs_service >> containers\n",
    "    ec2 >> ecs_service\n",
    "\n",
    "# This will save the diagram as 'ecs_deployment_deploy_new_container.png'"
   ],
   "metadata": {
    "collapsed": false,
    "ExecuteTime": {
     "end_time": "2023-11-16T16:13:27.764681Z",
     "start_time": "2023-11-16T16:13:27.524148Z"
    }
   },
   "id": "3b21bccdc3118215"
  },
  {
   "cell_type": "code",
   "execution_count": 44,
   "outputs": [],
   "source": [
    "name = big_name + \" - 3. Decommission Old Container\"\n",
    "with Diagram(name, os.path.join(output_folder, name), show=False, direction=\"TB\"):\n",
    "    with Cluster(\"ECS Cluster\"):\n",
    "        ecs_service = ECS(\"ECS Service\")\n",
    "        # One old container and one new version container, after decommissioning one old container\n",
    "        containers = [Docker(\"Container 1 - Old\"), Docker(\"Container 2 - New\")]\n",
    "\n",
    "    ec2 = EC2(\"EC2 Capacity\")\n",
    "\n",
    "    ecs_service >> containers\n",
    "    ec2 >> ecs_service\n",
    "\n",
    "# This will save the diagram as 'ecs_deployment_decommission_old_container.png'"
   ],
   "metadata": {
    "collapsed": false,
    "ExecuteTime": {
     "end_time": "2023-11-16T16:13:28.013858Z",
     "start_time": "2023-11-16T16:13:27.767004Z"
    }
   },
   "id": "5924680feb929cee"
  },
  {
   "cell_type": "code",
   "execution_count": 45,
   "outputs": [],
   "source": [
    "name = big_name + \" - 4. Rollout Continuation\"\n",
    "with Diagram(name, os.path.join(output_folder, name), show=False, direction=\"TB\"):\n",
    "    with Cluster(\"ECS Cluster\"):\n",
    "        ecs_service = ECS(\"ECS Service\")\n",
    "        # Two new version containers after decommissioning the last old container\n",
    "        containers = [Docker(\"Container 1 - New\"), Docker(\"Container 2 - New\")]\n",
    "\n",
    "    ec2 = EC2(\"EC2 Capacity\")\n",
    "\n",
    "    ecs_service >> containers\n",
    "    ec2 >> ecs_service\n",
    "\n",
    "# This will save the diagram as 'ecs_deployment_rollout_continuation.png'"
   ],
   "metadata": {
    "collapsed": false,
    "ExecuteTime": {
     "end_time": "2023-11-16T16:13:28.282582Z",
     "start_time": "2023-11-16T16:13:28.016485Z"
    }
   },
   "id": "461fbca785b95c4"
  },
  {
   "cell_type": "code",
   "execution_count": 45,
   "outputs": [],
   "source": [],
   "metadata": {
    "collapsed": false,
    "ExecuteTime": {
     "end_time": "2023-11-16T16:13:28.305030Z",
     "start_time": "2023-11-16T16:13:28.283114Z"
    }
   },
   "id": "d2bbbf32de675932"
  },
  {
   "cell_type": "code",
   "execution_count": 58,
   "outputs": [],
   "source": [
    "def find_largest_dimensions(image_folder, file_names):\n",
    "    \"\"\" Find the largest width and height among all images \"\"\"\n",
    "    max_width, max_height = 0, 0\n",
    "    for file_name in file_names:\n",
    "        with Image.open(os.path.join(image_folder, file_name)) as img:\n",
    "            if img.width > max_width:\n",
    "                max_width = img.width\n",
    "            if img.height > max_height:\n",
    "                max_height = img.height\n",
    "    return max_width, max_height\n",
    "\n",
    "\n",
    "def pad_image_to_size(img, size):\n",
    "    \"\"\" Pad image with white background to match the given size \"\"\"\n",
    "    padded_img = ImageOps.pad(img, size, color=\"white\")\n",
    "    return padded_img\n",
    "\n",
    "\n",
    "def create_fading_gif(image_folder, output_gif, duration=5, fade_duration=2, static_duration=200, loop=0):\n",
    "    images = []\n",
    "    filenames = sorted([img for img in os.listdir(image_folder) if img.endswith(\".png\")])\n",
    "\n",
    "    # Find the largest image size\n",
    "    max_width, max_height = find_largest_dimensions(image_folder, filenames)\n",
    "    largest_size = (max_width, max_height)\n",
    "\n",
    "    for i in range(len(filenames) - 1):\n",
    "        img1 = Image.open(os.path.join(image_folder, filenames[i]))\n",
    "        img2 = Image.open(os.path.join(image_folder, filenames[i + 1]))\n",
    "\n",
    "        # Pad images to the same size\n",
    "        img1 = pad_image_to_size(img1, largest_size)\n",
    "        img2 = pad_image_to_size(img2, largest_size)\n",
    "\n",
    "        # Display static image for a duration\n",
    "        for _ in range(static_duration):\n",
    "            images.append(img1)\n",
    "\n",
    "        # Create fading effect\n",
    "        for t in range(fade_duration):\n",
    "            alpha = t / fade_duration\n",
    "            blended = Image.blend(img1, img2, alpha)\n",
    "            images.append(blended)\n",
    "\n",
    "    # Add and display the last image statically\n",
    "    last_img = Image.open(os.path.join(image_folder, filenames[-1]))\n",
    "    last_img = pad_image_to_size(last_img, largest_size)\n",
    "    for _ in range(static_duration):\n",
    "        images.append(last_img)\n",
    "\n",
    "    # Save to GIF with infinite loop\n",
    "    imageio.mimsave(output_gif, images, duration=duration, loop=loop)\n",
    "\n",
    "\n",
    "image_folder = output_folder\n",
    "output_gif = f'{big_name}.gif'  # Output GIF file name\n",
    "create_fading_gif(image_folder, os.path.join(image_folder, output_gif))"
   ],
   "metadata": {
    "collapsed": false,
    "ExecuteTime": {
     "end_time": "2023-11-16T16:24:53.435291Z",
     "start_time": "2023-11-16T16:24:23.081807Z"
    }
   },
   "id": "1471bc90d5cfca48"
  },
  {
   "cell_type": "code",
   "execution_count": 46,
   "outputs": [],
   "source": [],
   "metadata": {
    "collapsed": false,
    "ExecuteTime": {
     "end_time": "2023-11-16T16:13:29.944202Z",
     "start_time": "2023-11-16T16:13:29.922501Z"
    }
   },
   "id": "2ccb6d7776578f8"
  }
 ],
 "metadata": {
  "kernelspec": {
   "display_name": "Python 3",
   "language": "python",
   "name": "python3"
  },
  "language_info": {
   "codemirror_mode": {
    "name": "ipython",
    "version": 2
   },
   "file_extension": ".py",
   "mimetype": "text/x-python",
   "name": "python",
   "nbconvert_exporter": "python",
   "pygments_lexer": "ipython2",
   "version": "2.7.6"
  }
 },
 "nbformat": 4,
 "nbformat_minor": 5
}
