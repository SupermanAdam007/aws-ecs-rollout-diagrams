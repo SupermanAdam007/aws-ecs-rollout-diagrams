{
 "cells": [
  {
   "cell_type": "code",
   "execution_count": 1,
   "outputs": [],
   "source": [
    "import os\n",
    "import shutil\n",
    "from IPython import get_ipython\n",
    "\n",
    "from PIL import Image, ImageOps\n",
    "import imageio"
   ],
   "metadata": {
    "collapsed": false,
    "ExecuteTime": {
     "end_time": "2023-11-16T16:35:04.095508Z",
     "start_time": "2023-11-16T16:35:03.901089Z"
    }
   },
   "id": "f5059ca62f780507"
  },
  {
   "cell_type": "code",
   "execution_count": 2,
   "outputs": [],
   "source": [
    "notebook_path = get_ipython().starting_dir\n",
    "output_folder = os.path.join(notebook_path, \"diagrams\")\n",
    "\n",
    "shutil.rmtree(output_folder, ignore_errors=True)\n",
    "os.makedirs(output_folder)"
   ],
   "metadata": {
    "collapsed": false,
    "ExecuteTime": {
     "end_time": "2023-11-16T16:35:04.113667Z",
     "start_time": "2023-11-16T16:35:04.057196Z"
    }
   },
   "id": "d9d5e62709ce15e8"
  },
  {
   "cell_type": "code",
   "execution_count": 3,
   "outputs": [],
   "source": [
    "big_name = \"AWS Serverless Architecture\""
   ],
   "metadata": {
    "collapsed": false,
    "ExecuteTime": {
     "end_time": "2023-11-16T16:35:04.113917Z",
     "start_time": "2023-11-16T16:35:04.060624Z"
    }
   },
   "id": "be42c4e4718f647a"
  },
  {
   "cell_type": "code",
   "execution_count": 12,
   "outputs": [],
   "source": [
    "from diagrams import Diagram\n",
    "from diagrams.aws.compute import Lambda\n",
    "from diagrams.aws.integration import APIGateway\n",
    "from diagrams.aws.storage import S3\n",
    "from diagrams.aws.database import Dynamodb\n",
    "from diagrams.aws.integration import SNS, SQS, Eventbridge\n",
    "from diagrams.aws.security import Cognito\n",
    "from diagrams.aws.management import Cloudwatch, XRay\n",
    "from diagrams.aws.analytics import KinesisDataFirehose\n",
    "from diagrams.aws. import StepFunctions\n",
    "\n",
    "with Diagram(\"Advanced AWS Serverless Architecture\", show=False):\n",
    "    # Entry point\n",
    "    api_gateway = APIGateway(\"API Gateway\")\n",
    "    user_auth = Cognito(\"User Authentication\")\n",
    "\n",
    "    # Core services\n",
    "    lambda_function = Lambda(\"Lambda Function\")\n",
    "    step_functions = StepFunctions(\"Step Functions\")\n",
    "\n",
    "    # Storage\n",
    "    s3_bucket = S3(\"S3 Bucket\")\n",
    "    dynamodb = Dynamodb(\"DynamoDB\")\n",
    "    firehose = KinesisDataFirehose(\"Data Firehose\")\n",
    "\n",
    "    # Messaging and event handling\n",
    "    sns = SNS(\"SNS Topic\")\n",
    "    sqs = SQS(\"SQS Queue\")\n",
    "    eventbridge = Eventbridge(\"EventBridge\")\n",
    "\n",
    "    # Monitoring and logging\n",
    "    cloudwatch = Cloudwatch(\"CloudWatch\")\n",
    "    xray = XRay(\"X-Ray\")\n",
    "\n",
    "    # Architecture flow\n",
    "    api_gateway >> user_auth >> lambda_function\n",
    "    lambda_function >> step_functions >> [dynamodb, s3_bucket, firehose]\n",
    "    lambda_function >> eventbridge >> sns >> sqs\n",
    "    lambda_function >> [cloudwatch, xray]\n",
    "\n"
   ],
   "metadata": {
    "collapsed": false,
    "ExecuteTime": {
     "end_time": "2023-11-16T16:53:14.839869Z",
     "start_time": "2023-11-16T16:53:14.580233Z"
    }
   },
   "id": "3d58344da9e27ae8"
  },
  {
   "cell_type": "code",
   "execution_count": 8,
   "outputs": [],
   "source": [],
   "metadata": {
    "collapsed": false,
    "ExecuteTime": {
     "end_time": "2023-11-16T16:39:47.528823Z",
     "start_time": "2023-11-16T16:39:47.500772Z"
    }
   },
   "id": "d2bbbf32de675932"
  },
  {
   "cell_type": "code",
   "execution_count": 7,
   "outputs": [
    {
     "ename": "IndexError",
     "evalue": "list index out of range",
     "output_type": "error",
     "traceback": [
      "\u001B[0;31m---------------------------------------------------------------------------\u001B[0m",
      "\u001B[0;31mIndexError\u001B[0m                                Traceback (most recent call last)",
      "Cell \u001B[0;32mIn[7], line 57\u001B[0m\n\u001B[1;32m     55\u001B[0m image_folder \u001B[38;5;241m=\u001B[39m output_folder\n\u001B[1;32m     56\u001B[0m output_gif \u001B[38;5;241m=\u001B[39m \u001B[38;5;124mf\u001B[39m\u001B[38;5;124m'\u001B[39m\u001B[38;5;132;01m{\u001B[39;00mbig_name\u001B[38;5;132;01m}\u001B[39;00m\u001B[38;5;124m.gif\u001B[39m\u001B[38;5;124m'\u001B[39m  \u001B[38;5;66;03m# Output GIF file name\u001B[39;00m\n\u001B[0;32m---> 57\u001B[0m \u001B[43mcreate_fading_gif\u001B[49m\u001B[43m(\u001B[49m\u001B[43mimage_folder\u001B[49m\u001B[43m,\u001B[49m\u001B[43m \u001B[49m\u001B[43mos\u001B[49m\u001B[38;5;241;43m.\u001B[39;49m\u001B[43mpath\u001B[49m\u001B[38;5;241;43m.\u001B[39;49m\u001B[43mjoin\u001B[49m\u001B[43m(\u001B[49m\u001B[43mimage_folder\u001B[49m\u001B[43m,\u001B[49m\u001B[43m \u001B[49m\u001B[43moutput_gif\u001B[49m\u001B[43m)\u001B[49m\u001B[43m)\u001B[49m\n",
      "Cell \u001B[0;32mIn[7], line 46\u001B[0m, in \u001B[0;36mcreate_fading_gif\u001B[0;34m(image_folder, output_gif, duration, fade_duration, static_duration, loop)\u001B[0m\n\u001B[1;32m     43\u001B[0m         images\u001B[38;5;241m.\u001B[39mappend(blended)\n\u001B[1;32m     45\u001B[0m \u001B[38;5;66;03m# Add and display the last image statically\u001B[39;00m\n\u001B[0;32m---> 46\u001B[0m last_img \u001B[38;5;241m=\u001B[39m Image\u001B[38;5;241m.\u001B[39mopen(os\u001B[38;5;241m.\u001B[39mpath\u001B[38;5;241m.\u001B[39mjoin(image_folder, \u001B[43mfilenames\u001B[49m\u001B[43m[\u001B[49m\u001B[38;5;241;43m-\u001B[39;49m\u001B[38;5;241;43m1\u001B[39;49m\u001B[43m]\u001B[49m))\n\u001B[1;32m     47\u001B[0m last_img \u001B[38;5;241m=\u001B[39m pad_image_to_size(last_img, largest_size)\n\u001B[1;32m     48\u001B[0m \u001B[38;5;28;01mfor\u001B[39;00m _ \u001B[38;5;129;01min\u001B[39;00m \u001B[38;5;28mrange\u001B[39m(static_duration):\n",
      "\u001B[0;31mIndexError\u001B[0m: list index out of range"
     ]
    }
   ],
   "source": [
    "def find_largest_dimensions(image_folder, file_names):\n",
    "    \"\"\" Find the largest width and height among all images \"\"\"\n",
    "    max_width, max_height = 0, 0\n",
    "    for file_name in file_names:\n",
    "        with Image.open(os.path.join(image_folder, file_name)) as img:\n",
    "            if img.width > max_width:\n",
    "                max_width = img.width\n",
    "            if img.height > max_height:\n",
    "                max_height = img.height\n",
    "    return max_width, max_height\n",
    "\n",
    "\n",
    "def pad_image_to_size(img, size):\n",
    "    \"\"\" Pad image with white background to match the given size \"\"\"\n",
    "    padded_img = ImageOps.pad(img, size, color=\"white\")\n",
    "    return padded_img\n",
    "\n",
    "\n",
    "def create_fading_gif(image_folder, output_gif, duration=5, fade_duration=2, static_duration=200, loop=0):\n",
    "    images = []\n",
    "    filenames = sorted([img for img in os.listdir(image_folder) if img.endswith(\".png\")])\n",
    "\n",
    "    # Find the largest image size\n",
    "    max_width, max_height = find_largest_dimensions(image_folder, filenames)\n",
    "    largest_size = (max_width, max_height)\n",
    "\n",
    "    for i in range(len(filenames) - 1):\n",
    "        img1 = Image.open(os.path.join(image_folder, filenames[i]))\n",
    "        img2 = Image.open(os.path.join(image_folder, filenames[i + 1]))\n",
    "\n",
    "        # Pad images to the same size\n",
    "        img1 = pad_image_to_size(img1, largest_size)\n",
    "        img2 = pad_image_to_size(img2, largest_size)\n",
    "\n",
    "        # Display static image for a duration\n",
    "        for _ in range(static_duration):\n",
    "            images.append(img1)\n",
    "\n",
    "        # Create fading effect\n",
    "        for t in range(fade_duration):\n",
    "            alpha = t / fade_duration\n",
    "            blended = Image.blend(img1, img2, alpha)\n",
    "            images.append(blended)\n",
    "\n",
    "    # Add and display the last image statically\n",
    "    last_img = Image.open(os.path.join(image_folder, filenames[-1]))\n",
    "    last_img = pad_image_to_size(last_img, largest_size)\n",
    "    for _ in range(static_duration):\n",
    "        images.append(last_img)\n",
    "\n",
    "    # Save to GIF with infinite loop\n",
    "    imageio.mimsave(output_gif, images, duration=duration, loop=loop)\n",
    "\n",
    "\n",
    "image_folder = output_folder\n",
    "output_gif = f'{big_name}.gif'  # Output GIF file name\n",
    "create_fading_gif(image_folder, os.path.join(image_folder, output_gif))"
   ],
   "metadata": {
    "collapsed": false,
    "ExecuteTime": {
     "end_time": "2023-11-16T16:38:43.937296Z",
     "start_time": "2023-11-16T16:38:43.893980Z"
    }
   },
   "id": "1471bc90d5cfca48"
  },
  {
   "cell_type": "code",
   "execution_count": null,
   "outputs": [],
   "source": [],
   "metadata": {
    "collapsed": false,
    "ExecuteTime": {
     "start_time": "2023-11-16T16:35:04.253290Z"
    }
   },
   "id": "2ccb6d7776578f8"
  }
 ],
 "metadata": {
  "kernelspec": {
   "display_name": "Python 3",
   "language": "python",
   "name": "python3"
  },
  "language_info": {
   "codemirror_mode": {
    "name": "ipython",
    "version": 2
   },
   "file_extension": ".py",
   "mimetype": "text/x-python",
   "name": "python",
   "nbconvert_exporter": "python",
   "pygments_lexer": "ipython2",
   "version": "2.7.6"
  }
 },
 "nbformat": 4,
 "nbformat_minor": 5
}
